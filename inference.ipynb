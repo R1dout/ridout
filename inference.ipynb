{
 "cells": [
  {
   "cell_type": "code",
   "execution_count": null,
   "id": "84adb0fd",
   "metadata": {},
   "outputs": [],
   "source": [
    "import torch\n",
    "import soundfile\n",
    "import numpy\n",
    "import IPython.display as ipd\n",
    "from IPython.core.display import display\n",
    "from model.model_entry import select_model\n",
    "from model.demucs.demucs import HTDemucs\n",
    "\n",
    "load_model_path = ''\n",
    "source_path = ''\n",
    "save_path = ''"
   ]
  },
  {
   "cell_type": "code",
   "execution_count": null,
   "id": "1b315618",
   "metadata": {},
   "outputs": [],
   "source": [
    "class Inference:\n",
    "    def __init__(self):\n",
    "        self.model = select_model(args)\n",
    "        self.model.load_state_dict(torch.load(load_model_path),False)\n",
    "        self.model.eval()\n",
    "        \n",
    "    def inf(self,wav):\n",
    "        pred = self.model(wav)  \n",
    "        display(ipd.Audio(pred,rate=16000))\n",
    "        soundfile.write(save_path,pred,16000)"
   ]
  },
  {
   "cell_type": "code",
   "execution_count": null,
   "id": "ccfffd24",
   "metadata": {},
   "outputs": [],
   "source": [
    "def inf_main():\n",
    "    wav=soundfile.read(source_path)\n",
    "    display(ipd.Audio(wav,rate=16000))\n",
    "    inference = Inference()\n",
    "    inference.inf(wav)\n",
    "\n",
    "\n",
    "if __name__ == '__main__':\n",
    "    inf_main()"
   ]
  }
 ],
 "metadata": {
  "kernelspec": {
   "display_name": "Python 3 (ipykernel)",
   "language": "python",
   "name": "python3"
  },
  "language_info": {
   "codemirror_mode": {
    "name": "ipython",
    "version": 3
   },
   "file_extension": ".py",
   "mimetype": "text/x-python",
   "name": "python",
   "nbconvert_exporter": "python",
   "pygments_lexer": "ipython3",
   "version": "3.9.13"
  }
 },
 "nbformat": 4,
 "nbformat_minor": 5
}
